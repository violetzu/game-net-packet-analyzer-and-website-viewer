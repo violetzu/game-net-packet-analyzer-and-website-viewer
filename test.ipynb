{
 "cells": [
  {
   "cell_type": "code",
   "execution_count": 3,
   "metadata": {},
   "outputs": [
    {
     "data": {
      "text/plain": [
       "True"
      ]
     },
     "execution_count": 3,
     "metadata": {},
     "output_type": "execute_result"
    }
   ],
   "source": [
    "a=\"78:03:00:00:00:1f:8b:08:00:00:00:00:00:04:00:85:95:c9:4f:53:41:1c:80:e7:51:57:c4:7d:41:5c:88:9e:3c:a9:74:a5:c4:c4:44:96:03:5a:38:68:e2:45:13:f3:28:45:08:b4:d5:c2:53:48:15:b1:a4:2d:05:ba:88:d5:92:4a:41:23:16:95:80:2b:05:2c:4a:4c:38:fa:5f:d8:e9:6b:8d:89:d1:83:07:4f:ce:f2:33:e1:e0:14:32:d3:a6:a1:df:37:ef:b7:4d:57:36:22:b4:07:21:74:a1:c6:e2:bc:da:66:bd:72:5e:76:b4:d7:3b:5a:9c:d5:b2:b5:bd:5b:b7:0e:6d:20:ff:2b:27:5b:22:7b:3f:d9:ee:cc:42:5a:fd:b0:8c:bd:ef:70:f0:c9:ed:1f:4b:71:ad:41:77:e4:f8:11:ed:89:98:84:88:0a:d5:5b:14:6b:7b:4f:fd:f4:37:84:a2:a5:08:4d:22:fe:57:24:c6:2b:28:fe:c5:27:b1:a3:f2:b1:34:5e:ee:a7:f4:08:a1:9f:02:ad:11:d2:7a:2d:a5:bf:fe:a3:13:23:b9:c1:44:8b:82:d0:75:42:3f:04:7a:1d:d9:65:ff:a5:b5:f4:d1:0d:c6:69:c0:d5:48:40:7d:3f:ed:56:f8:e1:53:80:af:17:e3:f4:70:9d:e1:77:80:87:7e:56:ee:a9:69:75:2a:75:c0:3d:86:f7:0d:6b:f1:c5:84:2f:26:5f:a8:95:2d:72:6d:1b:7d:4d:99:25:d4:45:1e:61:16:14:1b:85:8a:0a:23:55:e8:b4:c3:12:2a:a1:09:48:87:b2:a3:a1:6c:2c:85:07:7c:54:72:93:48:a2:20:d9:24:96:18:98:c4:1e:94:d0:76:2a:f1:df:cb:c6:96:54:cf:13:3c:12:27:cb:3b:86:50:f7:2a:cf:66:b1:47:4f:3d:e6:29:48:67:66:21:88:93:1e:59:e1:f8:28:e0:c5:62:5c:c7:f0:a6:3e:0d:8f:e5:7e:0a:7b:03:d9:b1:01:fc:f1:cd:49:c4:25:03:20:d9:b2:86:44:ff:9d:e4:94:d6:dd:22:db:af:d1:98:68:36:ef:01:5c:22:86:59:41:8c:2f:49:22:68:94:b9:c8:c7:cc:62:02:cf:27:e8:71:34:95:61:30:6c:15:f5:63:55:15:13:fc:f9:2c:b1:47:ac:69:75:b5:75:76:55:bb:14:ab:4d:21:69:b8:41:14:2f:41:b1:4d:a8:a8:64:59:90:8e:17:b1:67:c8:8f:2e:e7:d3:51:fc:20:79:0a:f1:ae:8e:83:60:7b:61:81:31:e9:e3:d5:cc:3d:ef:cb:7d:1a:c7:af:c3:f8:fe:33:b2:2a:21:19:41:d0:ec:10:6a:4c:4c:93:0f:4b:6c:fc:aa:9d:4d:6e:a8:e4:20:a0:3b:c9:2e:fd:2f:4a:fb:49:bf:1e:7a:52:f5:2c:aa:fd:13:ea:d8:90:1a:f0:5f:6a:24:49:24:cc:08:28:76:09:4f:a7:65:d4:9b:5e:d5:6a:78:2b:a5:43:e4:5a:48:ee:94:90:8b:d0:3e:a0:77:0b:69:76:a7:98:af:fc:d2:f0:c1:52:ec:4d:1d:b6:66:a7:cb:d6:00:d1:f7:83:61:8f:c8:60:66:85:34:df:8a:c0:5c:f5:f9:f0:e4:8b:7c:62:3c:ef:1d:3a:4a:3e:2b:ab:da:69:af:d0:c1:2b:79:3a:cc:c7:01:2f:a6:d5:bb:33:73:24:06:9a:81:10:d0:fb:84:34:9b:ec:ca:9f:d0:8b:d9:b9:59:1c:0c:e5:e3:91:86:63:bc:17:87:40:50:2a:14:d0:66:36:54:84:fc:3c:84:ec:cc:33:b2:d4:e8:44:6e:f0:4d:a7:c2:d3:f0:af:0c:fb:0b:3a:48:3f:67:f8:0d:77:c6:d5:d5:6a:73:3a:9a:49:15:3b:09:1e:03:bc:4c:88:57:30:fc:d0:54:11:cb:40:2e:fc:36:fb:fe:91:09:86:29:00:f4:81:82:b4:d6:d4:48:02:a0:d3:82:3d:69:b2:9a:6d:d8:1b:c5:33:11:7a:cb:d2:5e:70:83:e5:a0:c8:52:c9:2a:a9:5b:b8:ac:61:37:79:ad:dc:61:eb:aa:83:36:f0:03:7c:48:08:9b:59:00:bd:2b:7c:9e:2d:36:87:c3:e9:68:6c:eb:76:3a:68:2f:2a:ab:e6:e8:70:41:85:d6:98:0a:f3:32:e0:d9:bb:78:69:22:b3:10:c0:e1:f9:8b:8d:7c:a4:ef:80:a3:5c:e8:e0:9d:74:6b:98:5f:6a:e7:94:76:d9:0e:3f:72:bd:c0:fe:05:3d:b6:30:1e:c8:07:00:00\",\n",
    "\n",
    "str(a[0]).replace(\":\", \"\")[10:14] == '1f8b'\n",
    "# "
   ]
  },
  {
   "cell_type": "code",
   "execution_count": 8,
   "metadata": {},
   "outputs": [
    {
     "name": "stdout",
     "output_type": "stream",
     "text": [
      "10\n",
      "133\n",
      "121\n",
      "192\n",
      "61\n",
      "56\n",
      "54\n",
      "58\n",
      "178\n"
     ]
    }
   ],
   "source": [
    "hex_data = 'a8579c03d38363ab2'  # 原始十六進制數據\n",
    "# 確保十六進制數據的長度是偶數\n",
    "if len(hex_data) % 2 != 0:\n",
    "    hex_data = '0' + hex_data\n",
    "\n",
    "# 每次處理兩個十六進制數字\n",
    "for i in range(0, len(hex_data), 2):\n",
    "    hex_pair = hex_data[i:i+2]  # 獲取兩個連續的十六進制數字\n",
    "    data = bytes.fromhex(hex_pair)  # 轉換為二進制數據\n",
    "    print(data[0])  # 打印數據的十進制表示"
   ]
  },
  {
   "cell_type": "code",
   "execution_count": 7,
   "metadata": {},
   "outputs": [],
   "source": [
    "encode_data=b'\\x86\\xe7'\n",
    "# encode_data=b'{\\xe6\\x88\\x98\\xe5\\x8a\\x9b}\\xef\\xbc\\x9a7,465,077\\xe9\\xcb\\x04'\n",
    "\n",
    "# encode_data.decode('utf-8')\n",
    "# encode_data.decode('ascii')\n",
    "# decode_data = encode_data[11:-3].decode('utf-8').strip().replace(' ', '')\n",
    "\n",
    "# decode_data"
   ]
  },
  {
   "cell_type": "code",
   "execution_count": 6,
   "metadata": {},
   "outputs": [
    {
     "name": "stdout",
     "output_type": "stream",
     "text": [
      "b\"\\x86\\x07\\x00\\x00\\x14\\x00\\x00\\x00SCLogic_RankInfoBack\\xab\\x86\\x01\\x00\\x05\\x00\\x00\\x00\\x1e\\x00\\x00\\x00\\x01\\x00\\x00\\x00\\x16\\x00\\x00\\x00{\\xe6\\x88\\x98\\xe5\\x8a\\x9b}\\xef\\xbc\\x9a116,591,984\\xcc\\x86\\x01\\x00\\x06\\x00\\x00\\x00\\xe9\\x97\\xbb\\xe5\\xbf\\x83\\xab\\xea\\x00\\x00\\x8c\\x17\\x00\\x00\\xa9\\x00\\x00\\x00\\x00\\x00\\x00\\x00\\x02\\x00\\x00\\x00\\x15\\x00\\x00\\x00{\\xe6\\x88\\x98\\xe5\\x8a\\x9b}\\xef\\xbc\\x9a84,024,632.\\x97\\x01\\x00\\x07\\x00\\x00\\x00ILuckyI\\xab\\xea\\x00\\x00\\x9c\\x17\\x00\\x00\\xa9\\x00\\x00\\x00\\x00\\x00\\x00\\x00\\x03\\x00\\x00\\x00\\x15\\x00\\x00\\x00{\\xe6\\x88\\x98\\xe5\\x8a\\x9b}\\xef\\xbc\\x9a81,071,830\\n\\x89\\x01\\x00\\n\\x00\\x00\\x00DaLaDiDaLa\\xb68\\x01\\x00\\x92\\x17\\x00\\x00\\xb1\\x00\\x00\\x00\\x00\\x00\\x00\\x00\\x04\\x00\\x00\\x00\\x15\\x00\\x00\\x00{\\xe6\\x88\\x98\\xe5\\x8a\\x9b}\\xef\\xbc\\x9a67,429,921\\xf6\\x89\\x01\\x00\\x07\\x00\\x00\\x00JayChouE\\x00\\x00\\x00\\x94\\x17\\x00\\x00\\xa1\\x00\\x00\\x00\\x00\\x00\\x00\\x00\\x05\\x00\\x00\\x00\\x15\\x00\\x00\\x00{\\xe6\\x88\\x98\\xe5\\x8a\\x9b}\\xef\\xbc\\x9a62,443,328\\xe3\\x86\\x01\\x00\\x06\\x00\\x00\\x00\\xe9\\x9d\\x92\\xe8\\x8a\\x9dfu\\x00\\x00q\\x17\\x00\\x00\\x99\\x00\\x00\\x00\\x00\\x00\\x00\\x00\\x06\\x00\\x00\\x00\\x15\\x00\\x00\\x00{\\xe6\\x88\\x98\\xe5\\x8a\\x9b}\\xef\\xbc\\x9a61,486,030\\x05\\x8c\\x01\\x00\\x0c\\x00\\x00\\x00\\xe7\\x82\\xb9\\xe7\\x83\\x9f\\xe7\\x9c\\x8b\\xe7\\x89\\x87\\x96\\xea\\x00\\x00\\x8f\\x17\\x00\\x00\\x95\\x00\\x00\\x00\\x00\\x00\\x00\\x00\\x07\\x00\\x00\\x00\\x15\\x00\\x00\\x00{\\xe6\\x88\\x98\\xe5\\x8a\\x9b}\\xef\\xbc\\x9a60,545,252\\xab\\x86\\x01\\x00\\x1d\\x00\\x00\\x00<color=#45FF63>\\xe7\\x90\\x89\\xe7\\xb4\\xab</color>{u\\x00\\x00\\x92\\x17\\x00\\x00\\xaa\\x00\\x00\\x00\\x00\\x00\\x00\\x00\\x08\\x00\\x00\\x00\\x15\\x00\\x00\\x00{\\xe6\\x88\\x98\\xe5\\x8a\\x9b}\\xef\\xbc\\x9a57,751,211\\x01-\\x02\\x00\\t\\x00\\x00\\x00\\xe9\\x98\\xbf\\xe9\\xbb\\x94\\xe5\\x95\\xa6;\\x00\\x00\\x00q\\x17\\x00\\x00\\x9d\\x00\\x00\\x00\\x00\\x00\\x00\\x00\\t\\x00\\x00\\x00\\x15\\x00\\x00\\x00{\\xe6\\x88\\x98\\xe5\\x8a\\x9b}\\xef\\xbc\\x9a55,226,035\\xec\\x89\\x01\\x00\\x04\\x00\\x00\\x00Lamp\\x0f\\x00\\x00\\x00t\\x17\\x00\\x00\\x94\\x00\\x00\\x00\\x00\\x00\\x00\\x00\\n\\x00\\x00\\x00\\x15\\x00\\x00\\x00{\\xe6\\x88\\x98\\xe5\\x8a\\x9b}\\xef\\xbc\\x9a48,823,126|\\x90\\x01\\x00\\x0c\\x00\\x00\\x00\\xe9\\x80\\x86\\xe5\\xa4\\xa9\\xe9\\x9d\\x9e\\xe9\\x85\\x8b!\\x00\\x00\\x00x\\x17\\x00\\x00\\x93\\x00\\x00\\x00\\x00\\x00\\x00\\x00\\x0b\\x00\\x00\\x00\\x15\\x00\\x00\\x00{\\xe6\\x88\\x98\\xe5\\x8a\\x9b}\\xef\\xbc\\x9a45,643,697m\\x8d\\x01\\x00\\x0f\\x00\\x00\\x00\\xe9\\x87\\x91\\xe6\\x97\\xbc\\xe7\\x82\\xa1\\xe5\\x92\\x9a\\xe5\\x92\\x9a\\x85\\x9c\\x00\\x00x\\x17\\x00\\x00\\x94\\x00\\x00\\x00\\x00\\x00\\x00\\x00\\x0c\\x00\\x00\\x00\\x15\\x00\\x00\\x00{\\xe6\\x88\\x98\\xe5\\x8a\\x9b}\\xef\\xbc\\x9a45,590,451\\xfa\\xe4\\x01\\x00\\x07\\x00\\x00\\x00ArtheondN\\x00\\x00s\\x17\\x00\\x00\\x9a\\x00\\x00\\x00\\x00\\x00\\x00\\x00\\r\\x00\\x00\\x00\\x15\\x00\\x00\\x00{\\xe6\\x88\\x98\\xe5\\x8a\\x9b}\\xef\\xbc\\x9a44,926,4991\\x8c\\x01\\x00\\x0c\\x00\\x00\\x00\\xe9\\xbb\\x8e\\xe6\\x98\\x8e\\xe6\\x97\\xb6\\xe5\\x88\\x86\\xb68\\x01\\x00w\\x17\\x00\\x00\\x94\\x00\\x00\\x00\\x00\\x00\\x00\\x00\\x0e\\x00\\x00\\x00\\x15\\x00\\x00\\x00{\\xe6\\x88\\x98\\xe5\\x8a\\x9b}\\xef\\xbc\\x9a42,730,375\\xa7\\x86\\x01\\x00\\x06\\x00\\x00\\x00\\xe4\\xb8\\x8d\\xe5\\xa6\\x82au\\x00\\x00x\\x17\\x00\\x00\\x98\\x00\\x00\\x00\\x00\\x00\\x00\\x00\\x0f\\x00\\x00\\x00\\x15\\x00\\x00\\x00{\\xe6\\x88\\x98\\xe5\\x8a\\x9b}\\xef\\xbc\\x9a40,611,819~\\xc4\\x01\\x00\\x0b\\x00\\x00\\x00LennonNixon\\xa6\\x11\\x01\\x00u\\x17\\x00\\x00\\x8f\\x00\\x00\\x00\\x00\\x00\\x00\\x00\\x10\\x00\\x00\\x00\\x15\\x00\\x00\\x00{\\xe6\\x88\\x98\\xe5\\x8a\\x9b}\\xef\\xbc\\x9a37,834,971\\xafD\\x03\\x00\\x06\\x00\\x00\\x00\\xe4\\xbb\\x8e\\xe5\\xbf\\x83\\xa6\\x11\\x01\\x00r\\x17\\x00\\x00\\x89\\x00\\x00\\x00\\x00\\x00\\x00\\x00\\x11\\x00\\x00\\x00\\x15\\x00\\x00\\x00{\\xe6\\x88\\x98\\xe5\\x8a\\x9b}\\xef\\xbc\\x9a37,732,579\\x1c\\xa7\\x02\\x00\\x06\\x00\\x00\\x00\\xe8\\x8f\\xb2\\xe6\\xb4\\x9b6\\x00\\x00\\x00w\\x17\\x00\\x00\\x89\\x00\\x00\\x00\\x00\\x00\\x00\\x00\\x12\\x00\\x00\\x00\\x15\\x00\\x00\\x00{\\xe6\\x88\\x98\\xe5\\x8a\\x9b}\\xef\\xbc\\x9a37,293,986\\xa6\\x86\\x01\\x00\\x0f\\x00\\x00\\x00\\xe8\\xa8\\x80\\xe8\\xbe\\x9e\\xe5\\xb0\\x8f\\xe5\\x93\\xa5\\xe5\\x93\\xa57\\x00\\x00\\x00t\\x17\\x00\\x00\\x8f\\x00\\x00\\x00\\x00\\x00\\x00\\x00\\x13\\x00\\x00\\x00\\x15\\x00\\x00\\x00{\\xe6\\x88\\x98\\xe5\\x8a\\x9b}\\xef\\xbc\\x9a34,049,403\\xaf<\\x03\\x00\\x0c\\x00\\x00\\x00\\xea\\xb3\\xa0\\xea\\xb8\\xb0\\xeb\\xb0\\x98\\xec\\xb0\\xacu\\x9c\\x00\\x00x\\x17\\x00\\x00\\x83\\x00\\x00\\x00\\x00\\x00\\x00\\x00\\x14\\x00\\x00\\x00\\x15\\x00\\x00\\x00{\\xe6\\x88\\x98\\xe5\\x8a\\x9b}\\xef\\xbc\\x9a34,021,383>\\x8f\\x01\\x00\\x06\\x00\\x00\\x00\\xe5\\xb9\\xbb\\xe7\\x81\\xad\\xb5\\x11\\x01\\x00\\x8f\\x17\\x00\\x00\\x8e\\x00\\x00\\x00\\x00\\x00\\x00\\x00\\x15\\x00\\x00\\x00\\x15\\x00\\x00\\x00{\\xe6\\x88\\x98\\xe5\\x8a\\x9b}\\xef\\xbc\\x9a33,871,202\\xa9U\\x03\\x00\\x0e\\x00\\x00\\x00CloseupFantasy-\\x00\\x00\\x00\\x00\\x00\\x00\\x00\\x87\\x00\\x00\\x00\\x00\\x00\\x00\\x00\\x16\\x00\\x00\\x00\\x15\\x00\\x00\\x00{\\xe6\\x88\\x98\\xe5\\x8a\\x9b}\\xef\\xbc\\x9a33,214,723\\xb5\\x19\\x04\\x00\\x0c\\x00\\x00\\x00HumphreyCole\\xa6\\x11\\x01\\x00t\\x17\\x00\\x00~\\x00\\x00\\x00\\x00\\x00\\x00\\x00\\x17\\x00\\x00\\x00\\x15\\x00\\x00\\x00{\\xe6\\x88\\x98\\xe5\\x8a\\x9b}\\xef\\xbc\\x9a32,566,611\\xaa\\x8d\\x01\\x00\\t\\x00\\x00\\x00\\xe8\\x90\\xbd\\xe4\\xb9\\x9d\\xe5\\xb7\\x9d\\x0b\\x00\\x00\\x00w\\x17\\x00\\x00\\x8f\\x00\\x00\\x00\\x00\\x00\\x00\\x00\\x18\\x00\\x00\\x00\\x15\\x00\\x00\\x00{\\xe6\\x88\\x98\\xe5\\x8a\\x9b}\\xef\\xbc\\x9a32,509,914b\\x80\\x03\\x00\\x0c\\x00\\x00\\x00\\xe9\\x93\\xb6\\xe5\\x85\\x89\\xe6\\x9c\\x88\\xe5\\xbd\\xb1/\\x00\\x00\\x00x\\x17\\x00\\x00\\x88\\x00\\x00\\x00\\x00\\x00\\x00\\x00\\x19\\x00\\x00\\x00\\x15\\x00\\x00\\x00{\\xe6\\x88\\x98\\xe5\\x8a\\x9b}\\xef\\xbc\\x9a32,495,563\\xf1\\x8d\\x01\\x00\\t\\x00\\x00\\x00\\xe6\\xb5\\xae\\xe5\\x8d\\x8e\\xe9\\x9a\\x90M'\\x00\\x00w\\x17\\x00\\x00\\x8b\\x00\\x00\\x00\\x00\\x00\\x00\\x00\\x1a\\x00\\x00\\x00\\x15\\x00\\x00\\x00{\\xe6\\x88\\x98\\xe5\\x8a\\x9b}\\xef\\xbc\\x9a32,376,575\\xb44\\x03\\x00\\x07\\x00\\x00\\x00LeMalin\\x9b\\xc3\\x00\\x00t\\x17\\x00\\x00\\x84\\x00\\x00\\x00\\x00\\x00\\x00\\x00\\x1b\\x00\\x00\\x00\\x15\\x00\\x00\\x00{\\xe6\\x88\\x98\\xe5\\x8a\\x9b}\\xef\\xbc\\x9a30,201,833\\xa4\\x86\\x01\\x00\\t\\x00\\x00\\x00\\xe5\\x85\\x8b\\xe6\\x8b\\x89\\xe8\\x82\\xaf\\x88\\x9c\\x00\\x00r\\x17\\x00\\x00\\x89\\x00\\x00\\x00\\x00\\x00\\x00\\x00\\x1c\\x00\\x00\\x00\\x15\\x00\\x00\\x00{\\xe6\\x88\\x98\\xe5\\x8a\\x9b}\\xef\\xbc\\x9a30,114,164\\xef\\x97\\x03\\x00\\x0f\\x00\\x00\\x00\\xe4\\xb8\\x80\\xe5\\x8c\\x85\\xe7\\xba\\xa2\\xe5\\x8d\\x97\\xe4\\xba\\xacdN\\x00\\x00x\\x17\\x00\\x00\\x82\\x00\\x00\\x00\\x00\\x00\\x00\\x00\\x1d\\x00\\x00\\x00\\x15\\x00\\x00\\x00{\\xe6\\x88\\x98\\xe5\\x8a\\x9b}\\xef\\xbc\\x9a29,165,587\\x1a\\xcf\\x01\\x00\\t\\x00\\x00\\x00\\xe3\\x83\\x81\\xe3\\x82\\xb3\\xe3\\x83\\xaaF'\\x00\\x00w\\x17\\x00\\x00\\x87\\x00\\x00\\x00\\x00\\x00\\x00\\x00\\x1e\\x00\\x00\\x00\\x15\\x00\\x00\\x00{\\xe6\\x88\\x98\\xe5\\x8a\\x9b}\\xef\\xbc\\x9a27,896,568\\xb8\\\\\\x03\\x00\\x05\\x00\\x00\\x00DaletE\\x00\\x00\\x00t\\x17\\x00\\x00\\x89\\x00\\x00\\x00\\x00\\x00\\x00\\x00\"\n"
     ]
    }
   ],
   "source": [
    "hex_data = '14040000001f8b08000000000004006d95ed4f5b551cc7cfa563736c3aa77b70735b627ce19b3377cf3de73e4524511811d3ed85c67726e68a9d10a017816623d385b5b6b42bb408cc56a09b3393094c610e10d6cdbdd09726fe11f4f601972cbef185affcddded304d3d3dcd3dbf6f4f3fd3d9f1bdb83d02184d0fbad7efbd3eece8fdeb3823d1dc10bf6db5667cf524c428db0770a9604eb08accbc578d6b936fbc5d387338468583509360df607fc7337ec563279e77164691ba1b1a3082d20efd500ebf0ff598361596158a3caeb1909810fa8c31feaec19ee70d9b91dac4fc0122ceb041b546e4a48a80936db2cbfd5d6edbeaf1b129a04fc1ec777d5e39a8e9962625321ff243cd3ef5ac3ad5d76e82c7c9c06f616671b05ac8219a3982ac6562de2dc64f95aee4208a1cf00fd86a3bb0528c1ccd0b04ce5c63109ed87cd5278b314b9599a4b9612a35f43d86910b8ce05f6080464ac32152baae2d6e5246c3677dabdf6c09baf32b5bd5da32da589446975a9f94cf5d796cbe0929b8945aef84cbda2aa635d255821443add80f6bad1641f57f2d3cef5f9379017508ed37b0534f8a2b801a94f208f6ea2fd565fff01b80f0138cdc1a67a9019d85028268af6f9849789ca48ccb9bd50c9dda84493afc0f74b2030c505f6090454ac41153453ef1b97906bb132fa5531f3b014bee54ccec0159df3346a4eec176aa8a68c994afe2d785df0d6c05057c00e7e721ea141606738fbac8065d03d1a66a64978292bf954319b2a66d69d78cc6dc18b3b8c3f271050b04e654c75f50e6fa3c2c6b8331fb6429edf598e1e10a032d608343f31affc2e5593e30f048376f07cf7253b387f504221e0d39c7fbe9ea73a0c0ef8af93e5369f673a9f829975d10140131c3d284475aa6055374fdc69a8a2e5f4cfc5d5590d3e5ddc81be20441593c249a1cdc7bc8a957f1829ff7ac359493b53dfc3a5f3b6a979fea240038e0c666226d3e5665f35ebdbf7bfddde58f96b25fb64e56e88973cc2050e89051482a9415bd25ed69dcd7ce9ea8f6b10ba3b7b298e1e16a0141b70e428b2b2f081af5ad1d65e7b3010ea6fb78243d6e0f0698e8ef2fb11a1844218d615ba766c57d5fd77427dfd5d0381e156bb37e0a6df8dff0a17382a1080d46b9a5bfd45e87a7720cb138f0a9b39e797dc3e5e815af65e12d3329c7a847d3ce265af32b5ee4413c5b9b8f3e8de193e74712e704c28c04c181a8dfecdcd17d77e72c65395998973af79e6939c3e2ea4a90e8f0b5d5d65beeab8f903e7acdeeee0ec6f5ee1bfe4eccb025686c4bbe73dbd1df32c3bd1643199288797e350f59d5d7b424813c83bd1d8d38cafda7a858d11672c5a7af09d339e293cb8eb0ebc1b7b986b9cacd780c705d12076433ffea7e7c156e4ea56f8fe5664b19dc75eabfc29010d236742ec9ab1f1a1affa5469b37a03436779cbd77cff0ff0cc0ee18a070000'\n",
    "binary_data = bytes.fromhex(hex_data[10:])\n",
    "import gzip\n",
    "import io\n",
    "\n",
    "result2=[]\n",
    "\n",
    "with gzip.GzipFile(fileobj=io.BytesIO(binary_data)) as f:\n",
    "    decompressed_data = f.read()\n",
    "\n",
    "print(decompressed_data)"
   ]
  },
  {
   "cell_type": "code",
   "execution_count": null,
   "metadata": {},
   "outputs": [],
   "source": []
  }
 ],
 "metadata": {
  "kernelspec": {
   "display_name": "Python 3",
   "language": "python",
   "name": "python3"
  },
  "language_info": {
   "codemirror_mode": {
    "name": "ipython",
    "version": 3
   },
   "file_extension": ".py",
   "mimetype": "text/x-python",
   "name": "python",
   "nbconvert_exporter": "python",
   "pygments_lexer": "ipython3",
   "version": "3.12.2"
  }
 },
 "nbformat": 4,
 "nbformat_minor": 2
}
