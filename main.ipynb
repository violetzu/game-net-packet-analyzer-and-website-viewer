{
 "cells": [
  {
   "cell_type": "code",
   "execution_count": null,
   "metadata": {},
   "outputs": [],
   "source": [
    "for i in range(1,60):\n",
    "    print(f'{{ \"value\": \"specific{i}\", \"label\": \"#{i}\" }},')"
   ]
  },
  {
   "cell_type": "markdown",
   "metadata": {},
   "source": [
    "run away record"
   ]
  },
  {
   "cell_type": "code",
   "execution_count": 4,
   "metadata": {},
   "outputs": [],
   "source": [
    "from general import read_json,write_json\n",
    "\n",
    "data1 = read_json(\"data/20240920_power.json\")\n",
    "data2 = read_json(\"data/20240814_power.json\")\n",
    "data3 = read_json(\"data/20240807_power.json\")\n",
    "member=[]\n",
    "for name in data1.keys():\n",
    "    try:\n",
    "        if (data1[name][\"power\"] == data2[name][\"power\"]):\n",
    "            member.append(name)\n",
    "    except KeyError:\n",
    "        try:\n",
    "            if (data1[name][\"power\"] == data3[name][\"power\"]):\n",
    "                member.append(name)\n",
    "        except KeyError:\n",
    "            continue\n",
    "\n",
    "alliance = read_json('alliance.json')\n",
    "alliance[\"跑路了\"] = member\n",
    "write_json('alliance.json',alliance)"
   ]
  }
 ],
 "metadata": {
  "kernelspec": {
   "display_name": "Python 3",
   "language": "python",
   "name": "python3"
  },
  "language_info": {
   "codemirror_mode": {
    "name": "ipython",
    "version": 3
   },
   "file_extension": ".py",
   "mimetype": "text/x-python",
   "name": "python",
   "nbconvert_exporter": "python",
   "pygments_lexer": "ipython3",
   "version": "3.12.2"
  }
 },
 "nbformat": 4,
 "nbformat_minor": 2
}
