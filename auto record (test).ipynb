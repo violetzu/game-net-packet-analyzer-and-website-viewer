{
 "cells": [
  {
   "cell_type": "code",
   "execution_count": 17,
   "metadata": {},
   "outputs": [],
   "source": [
    "import os\n",
    "import time\n",
    "import cv2\n",
    "import easyocr\n",
    "port=f'-s emulator-5554'\n",
    "reader = easyocr.Reader([\"en\"])\n",
    "\n",
    "\n",
    "def tap(x1,y1,sleep=0):\n",
    "    os.system(f'adb {port} shell input tap {x1} {y1}')\n",
    "    time.sleep(sleep)\n",
    "\n",
    "def swipe(x1,y1,x2,y2,sleep):\n",
    "    os.system(f'adb {port} shell input swipe {x1} {y1} {x2} {y2}')\n",
    "    time.sleep(sleep)\n",
    "\n",
    "def screenshot():\n",
    "    os.system(f'adb {port} shell /system/bin/screencap -p /sdcard/Pictures/check.png')\n",
    "\n",
    "\n",
    "def wait_time(t):\n",
    "    while True:\n",
    "        if int(time.strftime(\"%H\", time.localtime()))==t and int(time.strftime(\"%M\", time.localtime()))<=15:\n",
    "            break\n",
    "        time.sleep(300)\n",
    "    print(f'start at {time.strftime(\"%m-%d %H:%M\", time.localtime())}')\n",
    "\n",
    "\n",
    "\n",
    "def main(server):\n",
    "    # 選區\n",
    "    tap(800,570)\n",
    "    find=False\n",
    "    last_result=[]\n",
    "    swipe_type='down'\n",
    "    while True:\n",
    "        screenshot()\n",
    "        img =cv2.imread(f\"C:/Users/marimo/Documents/XuanZhi9/Pictures/check.png\", cv2.IMREAD_GRAYSCALE)\n",
    "        result = reader.readtext(img[250:700,252:590], detail=1)\n",
    "        # print(result)\n",
    "        for i in result:\n",
    "            if i[1].split('#')[0] ==f'{server}':\n",
    "                tap(700,260+(i[0][0][1]+i[0][3][1])/2)\n",
    "                print(server)\n",
    "                find=True\n",
    "                break\n",
    "        \n",
    "        if not find:       \n",
    "            try:\n",
    "                if result[4][1].split('#')[0] == '1':\n",
    "                    swipe_type='up'\n",
    "            except IndexError:\n",
    "                pass\n",
    "            if swipe_type=='up':\n",
    "                os.system('adb shell input swipe 800 450 800 600')\n",
    "            else:\n",
    "                os.system('adb shell input swipe 800 600 800 450')\n",
    "            \n",
    "\n",
    "            last_result=result\n",
    "            time.sleep(0.5)\n",
    "        else:\n",
    "            break\n",
    "\n",
    "    # 進入遊戲\n",
    "    tap(800,690,0.5)\n",
    "    # 選角\n",
    "    tap(800,320,3)\n",
    "    # 打x\n",
    "    tap(1550,72,0.5)\n",
    "    # 左上等級\n",
    "    tap(125,70,1)\n",
    "    # 榜\n",
    "    tap(900,760,0.5)\n",
    "    # 關卡\n",
    "    tap(160,270,0.5)\n",
    "    # 打x\n",
    "    tap(1439,70,0.5)\n",
    "    # 登出\n",
    "    tap(1550,740,3)\n",
    "\n",
    "\n"
   ]
  },
  {
   "cell_type": "code",
   "execution_count": 18,
   "metadata": {},
   "outputs": [
    {
     "name": "stdout",
     "output_type": "stream",
     "text": [
      "1\n",
      "2\n",
      "3\n",
      "4\n",
      "5\n",
      "6\n",
      "7\n",
      "8\n",
      "9\n",
      "10\n"
     ]
    },
    {
     "ename": "KeyboardInterrupt",
     "evalue": "",
     "output_type": "error",
     "traceback": [
      "\u001b[1;31m---------------------------------------------------------------------------\u001b[0m",
      "\u001b[1;31mKeyboardInterrupt\u001b[0m                         Traceback (most recent call last)",
      "Cell \u001b[1;32mIn[18], line 2\u001b[0m\n\u001b[0;32m      1\u001b[0m \u001b[38;5;28;01mfor\u001b[39;00m server \u001b[38;5;129;01min\u001b[39;00m \u001b[38;5;28mrange\u001b[39m(\u001b[38;5;241m1\u001b[39m,\u001b[38;5;241m100\u001b[39m):\n\u001b[1;32m----> 2\u001b[0m     \u001b[43mmain\u001b[49m\u001b[43m(\u001b[49m\u001b[43mserver\u001b[49m\u001b[43m)\u001b[49m\n",
      "Cell \u001b[1;32mIn[17], line 55\u001b[0m, in \u001b[0;36mmain\u001b[1;34m(server)\u001b[0m\n\u001b[0;32m     53\u001b[0m     \u001b[38;5;28;01mpass\u001b[39;00m\n\u001b[0;32m     54\u001b[0m \u001b[38;5;28;01mif\u001b[39;00m swipe_type\u001b[38;5;241m==\u001b[39m\u001b[38;5;124m'\u001b[39m\u001b[38;5;124mup\u001b[39m\u001b[38;5;124m'\u001b[39m:\n\u001b[1;32m---> 55\u001b[0m     \u001b[43mos\u001b[49m\u001b[38;5;241;43m.\u001b[39;49m\u001b[43msystem\u001b[49m\u001b[43m(\u001b[49m\u001b[38;5;124;43m'\u001b[39;49m\u001b[38;5;124;43madb shell input swipe 800 450 800 600\u001b[39;49m\u001b[38;5;124;43m'\u001b[39;49m\u001b[43m)\u001b[49m\n\u001b[0;32m     56\u001b[0m \u001b[38;5;28;01melse\u001b[39;00m:\n\u001b[0;32m     57\u001b[0m     os\u001b[38;5;241m.\u001b[39msystem(\u001b[38;5;124m'\u001b[39m\u001b[38;5;124madb shell input swipe 800 600 800 450\u001b[39m\u001b[38;5;124m'\u001b[39m)\n",
      "\u001b[1;31mKeyboardInterrupt\u001b[0m: "
     ]
    }
   ],
   "source": [
    "\n",
    "for server in range(1,100):\n",
    "    main(server)"
   ]
  },
  {
   "cell_type": "code",
   "execution_count": 53,
   "metadata": {},
   "outputs": [
    {
     "data": {
      "text/plain": [
       "0"
      ]
     },
     "execution_count": 53,
     "metadata": {},
     "output_type": "execute_result"
    }
   ],
   "source": [
    "os.system('adb shell input swipe 800 600 800 450')"
   ]
  }
 ],
 "metadata": {
  "kernelspec": {
   "display_name": "Python 3",
   "language": "python",
   "name": "python3"
  },
  "language_info": {
   "codemirror_mode": {
    "name": "ipython",
    "version": 3
   },
   "file_extension": ".py",
   "mimetype": "text/x-python",
   "name": "python",
   "nbconvert_exporter": "python",
   "pygments_lexer": "ipython3",
   "version": "3.12.2"
  }
 },
 "nbformat": 4,
 "nbformat_minor": 2
}
