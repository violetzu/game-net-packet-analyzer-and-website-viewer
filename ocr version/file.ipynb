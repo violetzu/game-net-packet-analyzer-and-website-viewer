{
 "cells": [
  {
   "cell_type": "markdown",
   "metadata": {},
   "source": [
    "UI"
   ]
  },
  {
   "cell_type": "code",
   "execution_count": 1,
   "metadata": {},
   "outputs": [],
   "source": [
    "import tkinter as tk\n",
    "from tkinter import ttk\n",
    "import os\n",
    "\n",
    "# Function to count files in directories and update labels\n",
    "def update_file_counts():\n",
    "    directories = [\"01/Screenshots\", \"02/Screenshots\", \"03/Screenshots\", \"04/Screenshots\", \"05/Screenshots\"]\n",
    "    for i, directory in enumerate(directories):\n",
    "        try:\n",
    "            files = next(os.walk(directory))[2]\n",
    "            count = len(files)\n",
    "            quotient, remainder = divmod(count, 6)\n",
    "            count_labels[i].config(text=f\"Files: {quotient}+{remainder}\")\n",
    "        except StopIteration:\n",
    "            count_labels[i].config(text=\"Files: 0\") # Directory does not exist\n",
    "    \n",
    "    # Set up next refresh\n",
    "    window.after(1000, update_file_counts)  # Refresh every 5 seconds\n",
    "\n",
    "# Function to clear the last file in each directory\n",
    "def clear_last_file():\n",
    "    directories = [\"01/Screenshots\", \"02/Screenshots\", \"03/Screenshots\", \"04/Screenshots\", \"05/Screenshots\"]\n",
    "    for directory in directories:\n",
    "        try:\n",
    "            files = next(os.walk(directory))[2]\n",
    "            if files:\n",
    "                oldest_file = max(files, key=lambda x: os.path.getctime(os.path.join(directory, x)))\n",
    "                os.remove(os.path.join(directory, oldest_file))\n",
    "        except StopIteration:\n",
    "            pass  # Directory does not exist or is empty\n",
    "    update_file_counts()  # Update counts immediately after deletion\n",
    "\n",
    "# Setup the window\n",
    "window = tk.Tk()\n",
    "window.title(\"File Count Display\")\n",
    "\n",
    "# Create labels for displaying file counts\n",
    "directories = [\"01/Screenshots\", \"02/Screenshots\", \"03/Screenshots\", \"04/Screenshots\", \"05/Screenshots\"]\n",
    "count_labels = []\n",
    "for directory in directories:\n",
    "    frame = ttk.Frame(window)\n",
    "    frame.pack(padx=10, pady=5, fill='x')\n",
    "    ttk.Label(frame, text=directory).pack(side=tk.LEFT)\n",
    "    count_label = ttk.Label(frame, text=\"Files: 0\")\n",
    "    count_label.pack(side=tk.RIGHT)\n",
    "    count_labels.append(count_label)\n",
    "\n",
    "# Button to manually clear the last file\n",
    "clear_button = ttk.Button(window, text=\"Clear Last File in Each Folder\", command=clear_last_file)\n",
    "clear_button.pack(pady=10)\n",
    "\n",
    "update_file_counts()  # Initial update\n",
    "\n",
    "window.mainloop()\n"
   ]
  },
  {
   "cell_type": "markdown",
   "metadata": {},
   "source": [
    "COPY"
   ]
  },
  {
   "cell_type": "code",
   "execution_count": null,
   "metadata": {},
   "outputs": [],
   "source": [
    "import os\n",
    "import shutil\n",
    "\n",
    "target_directory = \"picture\"\n",
    "\n",
    "# 确保目标文件夹存在\n",
    "if not os.path.exists(target_directory):\n",
    "    os.makedirs(target_directory)\n",
    "\n",
    "\n",
    "for img_path in os.listdir(target_directory):\n",
    "    full_path = os.path.join(target_directory, img_path)\n",
    "    try:\n",
    "        if os.path.isfile(full_path):\n",
    "            os.remove(full_path)\n",
    "            print(f\"remove {full_path}\")\n",
    "    except Exception as e:\n",
    "        print(f\"Failed to delete {full_path}. Reason: {e}\")\n",
    "\n",
    "for num in range(1,6):\n",
    "    directory = f\"0{num}\\Screenshots\"\n",
    "    files = sorted([os.path.join(directory, f) for f in os.listdir(directory) if os.path.isfile(os.path.join(directory, f))], key=os.path.getctime)\n",
    "    server=num-5\n",
    "    num2=0\n",
    "    for filename in files:\n",
    "        if num2 %6== 0 :\n",
    "            num2=1\n",
    "            server+=5\n",
    "        else:\n",
    "            num2 +=1\n",
    "        print(f\"{server if server>9 else f\"0{server}\"}-{num2}\")\n",
    "        new_filepath = os.path.join(target_directory, f\"{server if server>9 else f\"0{server}\"}-{num2}{os.path.splitext(filename)[-1]}\") \n",
    "        shutil.copy(filename, new_filepath)"
   ]
  }
 ],
 "metadata": {
  "kernelspec": {
   "display_name": "Python 3",
   "language": "python",
   "name": "python3"
  },
  "language_info": {
   "codemirror_mode": {
    "name": "ipython",
    "version": 3
   },
   "file_extension": ".py",
   "mimetype": "text/x-python",
   "name": "python",
   "nbconvert_exporter": "python",
   "pygments_lexer": "ipython3",
   "version": "3.12.2"
  }
 },
 "nbformat": 4,
 "nbformat_minor": 2
}
